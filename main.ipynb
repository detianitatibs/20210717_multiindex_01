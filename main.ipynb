{
 "cells": [
  {
   "cell_type": "markdown",
   "id": "dfb88b42-a125-47ce-840f-410f74e819bd",
   "metadata": {},
   "source": [
    "# MultiIndex形式のカラムを1次元のカラムに戻す"
   ]
  },
  {
   "cell_type": "code",
   "execution_count": 1,
   "id": "23725d5a-7e68-408a-b48d-4447b27bc10d",
   "metadata": {},
   "outputs": [],
   "source": [
    "import pandas as pd"
   ]
  },
  {
   "cell_type": "markdown",
   "id": "9f430eae-d624-4ac2-b6c3-0275546e73d6",
   "metadata": {},
   "source": [
    "## データ準備"
   ]
  },
  {
   "cell_type": "markdown",
   "id": "bec907fd-5264-44e8-a8e9-d98a2b78adf5",
   "metadata": {},
   "source": [
    "2021/1/1-2021/2/1の東京、横浜の気温と降水量のテストデータ  \n",
    "値自体に何も意味はない"
   ]
  },
  {
   "cell_type": "code",
   "execution_count": 2,
   "id": "01617090-d775-420a-aa50-89795fb925e4",
   "metadata": {},
   "outputs": [
    {
     "name": "stdout",
     "output_type": "stream",
     "text": [
      "(8, 4)\n"
     ]
    },
    {
     "data": {
      "text/html": [
       "<div>\n",
       "<style scoped>\n",
       "    .dataframe tbody tr th:only-of-type {\n",
       "        vertical-align: middle;\n",
       "    }\n",
       "\n",
       "    .dataframe tbody tr th {\n",
       "        vertical-align: top;\n",
       "    }\n",
       "\n",
       "    .dataframe thead th {\n",
       "        text-align: right;\n",
       "    }\n",
       "</style>\n",
       "<table border=\"1\" class=\"dataframe\">\n",
       "  <thead>\n",
       "    <tr style=\"text-align: right;\">\n",
       "      <th></th>\n",
       "      <th>date</th>\n",
       "      <th>region</th>\n",
       "      <th>meteorological</th>\n",
       "      <th>value</th>\n",
       "    </tr>\n",
       "  </thead>\n",
       "  <tbody>\n",
       "    <tr>\n",
       "      <th>0</th>\n",
       "      <td>2021-01-01</td>\n",
       "      <td>東京</td>\n",
       "      <td>気温</td>\n",
       "      <td>10.5</td>\n",
       "    </tr>\n",
       "    <tr>\n",
       "      <th>1</th>\n",
       "      <td>2021-01-01</td>\n",
       "      <td>東京</td>\n",
       "      <td>降水量</td>\n",
       "      <td>26.0</td>\n",
       "    </tr>\n",
       "    <tr>\n",
       "      <th>2</th>\n",
       "      <td>2021-01-01</td>\n",
       "      <td>横浜</td>\n",
       "      <td>気温</td>\n",
       "      <td>9.5</td>\n",
       "    </tr>\n",
       "    <tr>\n",
       "      <th>3</th>\n",
       "      <td>2021-01-01</td>\n",
       "      <td>横浜</td>\n",
       "      <td>降水量</td>\n",
       "      <td>26.2</td>\n",
       "    </tr>\n",
       "    <tr>\n",
       "      <th>4</th>\n",
       "      <td>2021-02-01</td>\n",
       "      <td>東京</td>\n",
       "      <td>気温</td>\n",
       "      <td>11.3</td>\n",
       "    </tr>\n",
       "  </tbody>\n",
       "</table>\n",
       "</div>"
      ],
      "text/plain": [
       "         date region meteorological  value\n",
       "0  2021-01-01     東京             気温   10.5\n",
       "1  2021-01-01     東京            降水量   26.0\n",
       "2  2021-01-01     横浜             気温    9.5\n",
       "3  2021-01-01     横浜            降水量   26.2\n",
       "4  2021-02-01     東京             気温   11.3"
      ]
     },
     "execution_count": 2,
     "metadata": {},
     "output_type": "execute_result"
    }
   ],
   "source": [
    "list_test = [\n",
    "    ['2021-01-01', '東京', '気温', 10.5],\n",
    "    ['2021-01-01', '東京', '降水量', 26.0],\n",
    "    ['2021-01-01', '横浜', '気温', 9.5],\n",
    "    ['2021-01-01', '横浜', '降水量', 26.2],\n",
    "    ['2021-02-01', '東京', '気温', 11.3],\n",
    "    ['2021-02-01', '東京', '降水量', 25.3],\n",
    "    ['2021-02-01', '横浜', '気温', 10.6],\n",
    "    ['2021-02-01', '横浜', '降水量', 27.3]\n",
    "]\n",
    "df = pd.DataFrame(list_test, columns=['date', 'region', 'meteorological', 'value'])\n",
    "print(df.shape)\n",
    "df.head()"
   ]
  },
  {
   "cell_type": "markdown",
   "id": "5dc25dad-1046-44a9-9d45-0e126ff7cf1f",
   "metadata": {},
   "source": [
    "## 横持ちに変換する"
   ]
  },
  {
   "cell_type": "code",
   "execution_count": 3,
   "id": "15dba75b-91c7-4b76-9b9f-a7b45afe630d",
   "metadata": {},
   "outputs": [],
   "source": [
    "df_pivot = df.pivot_table(index='date', columns=['region', 'meteorological'], values='value', aggfunc='sum')"
   ]
  },
  {
   "cell_type": "code",
   "execution_count": 4,
   "id": "9f0344e0-cbd0-459c-a344-5eedb43a752b",
   "metadata": {},
   "outputs": [
    {
     "data": {
      "text/html": [
       "<div>\n",
       "<style scoped>\n",
       "    .dataframe tbody tr th:only-of-type {\n",
       "        vertical-align: middle;\n",
       "    }\n",
       "\n",
       "    .dataframe tbody tr th {\n",
       "        vertical-align: top;\n",
       "    }\n",
       "\n",
       "    .dataframe thead tr th {\n",
       "        text-align: left;\n",
       "    }\n",
       "\n",
       "    .dataframe thead tr:last-of-type th {\n",
       "        text-align: right;\n",
       "    }\n",
       "</style>\n",
       "<table border=\"1\" class=\"dataframe\">\n",
       "  <thead>\n",
       "    <tr>\n",
       "      <th>region</th>\n",
       "      <th colspan=\"2\" halign=\"left\">東京</th>\n",
       "      <th colspan=\"2\" halign=\"left\">横浜</th>\n",
       "    </tr>\n",
       "    <tr>\n",
       "      <th>meteorological</th>\n",
       "      <th>気温</th>\n",
       "      <th>降水量</th>\n",
       "      <th>気温</th>\n",
       "      <th>降水量</th>\n",
       "    </tr>\n",
       "    <tr>\n",
       "      <th>date</th>\n",
       "      <th></th>\n",
       "      <th></th>\n",
       "      <th></th>\n",
       "      <th></th>\n",
       "    </tr>\n",
       "  </thead>\n",
       "  <tbody>\n",
       "    <tr>\n",
       "      <th>2021-01-01</th>\n",
       "      <td>10.5</td>\n",
       "      <td>26.0</td>\n",
       "      <td>9.5</td>\n",
       "      <td>26.2</td>\n",
       "    </tr>\n",
       "    <tr>\n",
       "      <th>2021-02-01</th>\n",
       "      <td>11.3</td>\n",
       "      <td>25.3</td>\n",
       "      <td>10.6</td>\n",
       "      <td>27.3</td>\n",
       "    </tr>\n",
       "  </tbody>\n",
       "</table>\n",
       "</div>"
      ],
      "text/plain": [
       "region            東京          横浜      \n",
       "meteorological    気温   降水量    気温   降水量\n",
       "date                                  \n",
       "2021-01-01      10.5  26.0   9.5  26.2\n",
       "2021-02-01      11.3  25.3  10.6  27.3"
      ]
     },
     "execution_count": 4,
     "metadata": {},
     "output_type": "execute_result"
    }
   ],
   "source": [
    "df_pivot"
   ]
  },
  {
   "cell_type": "code",
   "execution_count": 5,
   "id": "9ce2f494-f21a-44cb-9c32-1d150dda2e00",
   "metadata": {},
   "outputs": [
    {
     "data": {
      "text/plain": [
       "MultiIndex([('東京',  '気温'),\n",
       "            ('東京', '降水量'),\n",
       "            ('横浜',  '気温'),\n",
       "            ('横浜', '降水量')],\n",
       "           names=['region', 'meteorological'])"
      ]
     },
     "execution_count": 5,
     "metadata": {},
     "output_type": "execute_result"
    }
   ],
   "source": [
    "df_pivot.columns"
   ]
  },
  {
   "cell_type": "markdown",
   "id": "ec433fbe-85bd-4a8c-a70e-4683403b6800",
   "metadata": {},
   "source": [
    "カラムがMultiIndexとなっている  \n",
    "columns.valuesとすると、tuppleの配列が取得できる  "
   ]
  },
  {
   "cell_type": "code",
   "execution_count": 6,
   "id": "a4c1539d-ab4f-49d6-a888-ec1db293b97d",
   "metadata": {},
   "outputs": [
    {
     "data": {
      "text/plain": [
       "array([('東京', '気温'), ('東京', '降水量'), ('横浜', '気温'), ('横浜', '降水量')],\n",
       "      dtype=object)"
      ]
     },
     "execution_count": 6,
     "metadata": {},
     "output_type": "execute_result"
    }
   ],
   "source": [
    "df_pivot.columns.values"
   ]
  },
  {
   "cell_type": "markdown",
   "id": "d753adac-c08d-4da2-b1cc-1a954fa6454d",
   "metadata": {},
   "source": [
    "join関数で結合することができ、`df.columns`に代入すれば1次元のカラムに戻せる"
   ]
  },
  {
   "cell_type": "code",
   "execution_count": 7,
   "id": "1e25800f-bab9-4545-b69b-cd47958768e5",
   "metadata": {},
   "outputs": [
    {
     "data": {
      "text/plain": [
       "['東京_気温', '東京_降水量', '横浜_気温', '横浜_降水量']"
      ]
     },
     "execution_count": 7,
     "metadata": {},
     "output_type": "execute_result"
    }
   ],
   "source": [
    "['_'.join(col) for col in df_pivot.columns.values]"
   ]
  },
  {
   "cell_type": "code",
   "execution_count": 8,
   "id": "a3763c45-7c4c-4ce1-8ce7-f010218cd55d",
   "metadata": {},
   "outputs": [],
   "source": [
    "df_pivot.columns = ['_'.join(col) for col in df_pivot.columns.values]"
   ]
  },
  {
   "cell_type": "code",
   "execution_count": 9,
   "id": "deb9d891-cd17-4792-8757-3be7e62edfa6",
   "metadata": {},
   "outputs": [
    {
     "data": {
      "text/html": [
       "<div>\n",
       "<style scoped>\n",
       "    .dataframe tbody tr th:only-of-type {\n",
       "        vertical-align: middle;\n",
       "    }\n",
       "\n",
       "    .dataframe tbody tr th {\n",
       "        vertical-align: top;\n",
       "    }\n",
       "\n",
       "    .dataframe thead th {\n",
       "        text-align: right;\n",
       "    }\n",
       "</style>\n",
       "<table border=\"1\" class=\"dataframe\">\n",
       "  <thead>\n",
       "    <tr style=\"text-align: right;\">\n",
       "      <th></th>\n",
       "      <th>東京_気温</th>\n",
       "      <th>東京_降水量</th>\n",
       "      <th>横浜_気温</th>\n",
       "      <th>横浜_降水量</th>\n",
       "    </tr>\n",
       "    <tr>\n",
       "      <th>date</th>\n",
       "      <th></th>\n",
       "      <th></th>\n",
       "      <th></th>\n",
       "      <th></th>\n",
       "    </tr>\n",
       "  </thead>\n",
       "  <tbody>\n",
       "    <tr>\n",
       "      <th>2021-01-01</th>\n",
       "      <td>10.5</td>\n",
       "      <td>26.0</td>\n",
       "      <td>9.5</td>\n",
       "      <td>26.2</td>\n",
       "    </tr>\n",
       "    <tr>\n",
       "      <th>2021-02-01</th>\n",
       "      <td>11.3</td>\n",
       "      <td>25.3</td>\n",
       "      <td>10.6</td>\n",
       "      <td>27.3</td>\n",
       "    </tr>\n",
       "  </tbody>\n",
       "</table>\n",
       "</div>"
      ],
      "text/plain": [
       "            東京_気温  東京_降水量  横浜_気温  横浜_降水量\n",
       "date                                    \n",
       "2021-01-01   10.5    26.0    9.5    26.2\n",
       "2021-02-01   11.3    25.3   10.6    27.3"
      ]
     },
     "execution_count": 9,
     "metadata": {},
     "output_type": "execute_result"
    }
   ],
   "source": [
    "df_pivot"
   ]
  },
  {
   "cell_type": "code",
   "execution_count": null,
   "id": "cece89d0-5a9e-419e-8c5c-32c809cf625a",
   "metadata": {},
   "outputs": [],
   "source": []
  }
 ],
 "metadata": {
  "kernelspec": {
   "display_name": "Python 3",
   "language": "python",
   "name": "python3"
  },
  "language_info": {
   "codemirror_mode": {
    "name": "ipython",
    "version": 3
   },
   "file_extension": ".py",
   "mimetype": "text/x-python",
   "name": "python",
   "nbconvert_exporter": "python",
   "pygments_lexer": "ipython3",
   "version": "3.9.2"
  }
 },
 "nbformat": 4,
 "nbformat_minor": 5
}
